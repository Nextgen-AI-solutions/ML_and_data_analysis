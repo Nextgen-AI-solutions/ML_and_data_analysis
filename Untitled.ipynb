{
 "cells": [
  {
   "cell_type": "code",
   "execution_count": 1,
   "metadata": {},
   "outputs": [],
   "source": [
    "import pandas as pd\n",
    "import matplotlib.pyplot as plt\n"
   ]
  },
  {
   "cell_type": "code",
   "execution_count": 5,
   "metadata": {},
   "outputs": [
    {
     "name": "stdout",
     "output_type": "stream",
     "text": [
      "                    Date  Unnamed: 1 Unnamed: 2     # of cases # of deaths\n",
      "0    2020-01-30 00:00:00         NaN        NaN        1(n.a.)         NaN\n",
      "1    2020-02-01 00:00:00         NaN        NaN           1(=)         NaN\n",
      "2    2020-02-02 00:00:00         NaN          ​       2(+100%)         NaN\n",
      "3    2020-02-03 00:00:00         NaN          ​        3(+50%)         NaN\n",
      "4                      ⋮         NaN          ​           3(=)         NaN\n",
      "..                   ...         ...        ...            ...         ...\n",
      "385                  NaN         NaN          ​            NaN         NaN\n",
      "386                  NaN         NaN          ​            NaN         NaN\n",
      "387  2020-07-21 00:00:00         NaN          ​  13,994(+5.4%)       44(+1\n",
      "388                  NaN         NaN          ​            NaN         NaN\n",
      "389                  NaN         NaN          ​            NaN         NaN\n",
      "\n",
      "[390 rows x 5 columns]\n"
     ]
    }
   ],
   "source": [
    "df=pd.read_excel('Covid.xlsx')\n",
    "print(df)"
   ]
  },
  {
   "cell_type": "code",
   "execution_count": 6,
   "metadata": {},
   "outputs": [],
   "source": [
    "df=df[['Date','# of cases']]"
   ]
  },
  {
   "cell_type": "code",
   "execution_count": 7,
   "metadata": {},
   "outputs": [
    {
     "name": "stdout",
     "output_type": "stream",
     "text": [
      "                    Date     # of cases\n",
      "0    2020-01-30 00:00:00        1(n.a.)\n",
      "1    2020-02-01 00:00:00           1(=)\n",
      "2    2020-02-02 00:00:00       2(+100%)\n",
      "3    2020-02-03 00:00:00        3(+50%)\n",
      "4                      ⋮           3(=)\n",
      "..                   ...            ...\n",
      "385                  NaN            NaN\n",
      "386                  NaN            NaN\n",
      "387  2020-07-21 00:00:00  13,994(+5.4%)\n",
      "388                  NaN            NaN\n",
      "389                  NaN            NaN\n",
      "\n",
      "[390 rows x 2 columns]\n"
     ]
    }
   ],
   "source": [
    "print(df)"
   ]
  },
  {
   "cell_type": "code",
   "execution_count": 11,
   "metadata": {},
   "outputs": [
    {
     "name": "stdout",
     "output_type": "stream",
     "text": [
      "           Date  Unnamed: 1 Unnamed: 2          cases deaths\n",
      "0    30-01-2020         NaN        NaN        1(n.a.)    NaN\n",
      "1    01-02-2020         NaN        NaN           1(=)    NaN\n",
      "2    02-02-2020         NaN          ?       2(+100%)    NaN\n",
      "3    03-02-2020         NaN          ?        3(+50%)    NaN\n",
      "4             ?         NaN          ?           3(=)    NaN\n",
      "..          ...         ...        ...            ...    ...\n",
      "385         NaN         NaN          ?            NaN    NaN\n",
      "386         NaN         NaN          ?            NaN    NaN\n",
      "387  21-07-2020         NaN          ?  13,994(+5.4%)  44(+1\n",
      "388         NaN         NaN          ?            NaN    NaN\n",
      "389         NaN         NaN          ?            NaN    NaN\n",
      "\n",
      "[390 rows x 5 columns]\n"
     ]
    }
   ],
   "source": [
    "df2=pd.read_csv('Covid.csv')\n",
    "print(df2)\n"
   ]
  },
  {
   "cell_type": "code",
   "execution_count": 12,
   "metadata": {},
   "outputs": [
    {
     "data": {
      "text/html": [
       "<div>\n",
       "<style scoped>\n",
       "    .dataframe tbody tr th:only-of-type {\n",
       "        vertical-align: middle;\n",
       "    }\n",
       "\n",
       "    .dataframe tbody tr th {\n",
       "        vertical-align: top;\n",
       "    }\n",
       "\n",
       "    .dataframe thead th {\n",
       "        text-align: right;\n",
       "    }\n",
       "</style>\n",
       "<table border=\"1\" class=\"dataframe\">\n",
       "  <thead>\n",
       "    <tr style=\"text-align: right;\">\n",
       "      <th></th>\n",
       "      <th>Date</th>\n",
       "      <th>Unnamed: 1</th>\n",
       "      <th>Unnamed: 2</th>\n",
       "      <th>cases</th>\n",
       "    </tr>\n",
       "  </thead>\n",
       "  <tbody>\n",
       "    <tr>\n",
       "      <th>142</th>\n",
       "      <td>NaN</td>\n",
       "      <td>NaN</td>\n",
       "      <td>?</td>\n",
       "      <td>NaN</td>\n",
       "    </tr>\n",
       "    <tr>\n",
       "      <th>143</th>\n",
       "      <td>NaN</td>\n",
       "      <td>NaN</td>\n",
       "      <td>?</td>\n",
       "      <td>NaN</td>\n",
       "    </tr>\n",
       "    <tr>\n",
       "      <th>144</th>\n",
       "      <td>01-05-2020</td>\n",
       "      <td>NaN</td>\n",
       "      <td>?</td>\n",
       "      <td>497(=)</td>\n",
       "    </tr>\n",
       "    <tr>\n",
       "      <th>145</th>\n",
       "      <td>NaN</td>\n",
       "      <td>NaN</td>\n",
       "      <td>?</td>\n",
       "      <td>NaN</td>\n",
       "    </tr>\n",
       "    <tr>\n",
       "      <th>146</th>\n",
       "      <td>NaN</td>\n",
       "      <td>NaN</td>\n",
       "      <td>?</td>\n",
       "      <td>NaN</td>\n",
       "    </tr>\n",
       "    <tr>\n",
       "      <th>...</th>\n",
       "      <td>...</td>\n",
       "      <td>...</td>\n",
       "      <td>...</td>\n",
       "      <td>...</td>\n",
       "    </tr>\n",
       "    <tr>\n",
       "      <th>385</th>\n",
       "      <td>NaN</td>\n",
       "      <td>NaN</td>\n",
       "      <td>?</td>\n",
       "      <td>NaN</td>\n",
       "    </tr>\n",
       "    <tr>\n",
       "      <th>386</th>\n",
       "      <td>NaN</td>\n",
       "      <td>NaN</td>\n",
       "      <td>?</td>\n",
       "      <td>NaN</td>\n",
       "    </tr>\n",
       "    <tr>\n",
       "      <th>387</th>\n",
       "      <td>21-07-2020</td>\n",
       "      <td>NaN</td>\n",
       "      <td>?</td>\n",
       "      <td>13,994(+5.4%)</td>\n",
       "    </tr>\n",
       "    <tr>\n",
       "      <th>388</th>\n",
       "      <td>NaN</td>\n",
       "      <td>NaN</td>\n",
       "      <td>?</td>\n",
       "      <td>NaN</td>\n",
       "    </tr>\n",
       "    <tr>\n",
       "      <th>389</th>\n",
       "      <td>NaN</td>\n",
       "      <td>NaN</td>\n",
       "      <td>?</td>\n",
       "      <td>NaN</td>\n",
       "    </tr>\n",
       "  </tbody>\n",
       "</table>\n",
       "<p>248 rows × 4 columns</p>\n",
       "</div>"
      ],
      "text/plain": [
       "           Date  Unnamed: 1 Unnamed: 2          cases\n",
       "142         NaN         NaN          ?            NaN\n",
       "143         NaN         NaN          ?            NaN\n",
       "144  01-05-2020         NaN          ?         497(=)\n",
       "145         NaN         NaN          ?            NaN\n",
       "146         NaN         NaN          ?            NaN\n",
       "..          ...         ...        ...            ...\n",
       "385         NaN         NaN          ?            NaN\n",
       "386         NaN         NaN          ?            NaN\n",
       "387  21-07-2020         NaN          ?  13,994(+5.4%)\n",
       "388         NaN         NaN          ?            NaN\n",
       "389         NaN         NaN          ?            NaN\n",
       "\n",
       "[248 rows x 4 columns]"
      ]
     },
     "execution_count": 12,
     "metadata": {},
     "output_type": "execute_result"
    }
   ],
   "source": [
    "df2.iloc[142:,:4]"
   ]
  },
  {
   "cell_type": "code",
   "execution_count": null,
   "metadata": {},
   "outputs": [],
   "source": [
    "df."
   ]
  }
 ],
 "metadata": {
  "kernelspec": {
   "display_name": "Python 3",
   "language": "python",
   "name": "python3"
  },
  "language_info": {
   "codemirror_mode": {
    "name": "ipython",
    "version": 3
   },
   "file_extension": ".py",
   "mimetype": "text/x-python",
   "name": "python",
   "nbconvert_exporter": "python",
   "pygments_lexer": "ipython3",
   "version": "3.8.4"
  }
 },
 "nbformat": 4,
 "nbformat_minor": 4
}
