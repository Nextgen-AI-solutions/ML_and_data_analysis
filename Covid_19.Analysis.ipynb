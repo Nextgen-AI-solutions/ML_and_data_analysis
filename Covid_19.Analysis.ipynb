{
 "cells": [
  {
   "cell_type": "code",
   "execution_count": 1,
   "metadata": {},
   "outputs": [],
   "source": [
    "import pandas as pd\n",
    "import numpy as np\n",
    "import matplotlib.pyplot as plt\n",
    "import datetime as dt\n"
   ]
  },
  {
   "cell_type": "code",
   "execution_count": 2,
   "metadata": {
    "scrolled": true
   },
   "outputs": [
    {
     "name": "stdout",
     "output_type": "stream",
     "text": [
      "           Date  Unnamed: 1 Unnamed: 2    cases deaths\n",
      "0    30-01-2020         NaN        NaN      1.0    NaN\n",
      "1    01-02-2020         NaN        NaN      1.0    NaN\n",
      "2    02-02-2020         NaN          ?      2.0    NaN\n",
      "3    03-02-2020         NaN          ?      3.0    NaN\n",
      "4             ?         NaN          ?      3.0    NaN\n",
      "..          ...         ...        ...      ...    ...\n",
      "385         NaN         NaN          ?      NaN    NaN\n",
      "386         NaN         NaN          ?      NaN    NaN\n",
      "387  21-07-2020         NaN          ?  13994.0  44(+1\n",
      "388         NaN         NaN          ?      NaN    NaN\n",
      "389         NaN         NaN          ?      NaN    NaN\n",
      "\n",
      "[390 rows x 5 columns]\n"
     ]
    }
   ],
   "source": [
    "df=pd.read_csv('Covid.csv')\n",
    "print(df)"
   ]
  },
  {
   "cell_type": "code",
   "execution_count": 3,
   "metadata": {},
   "outputs": [
    {
     "name": "stdout",
     "output_type": "stream",
     "text": [
      "           Date  Unnamed: 1 Unnamed: 2    cases deaths\n",
      "0    30-01-2020         NaN        NaN      1.0    NaN\n",
      "1    01-02-2020         NaN        NaN      1.0    NaN\n",
      "2    02-02-2020         NaN          ?      2.0    NaN\n",
      "3    03-02-2020         NaN          ?      3.0    NaN\n",
      "4    05-02-2020         NaN          ?      3.0    NaN\n",
      "..          ...         ...        ...      ...    ...\n",
      "385         NaN         NaN          ?      NaN    NaN\n",
      "386         NaN         NaN          ?      NaN    NaN\n",
      "387  21-07-2020         NaN          ?  13994.0  44(+1\n",
      "388         NaN         NaN          ?      NaN    NaN\n",
      "389         NaN         NaN          ?      NaN    NaN\n",
      "\n",
      "[390 rows x 5 columns]\n"
     ]
    }
   ],
   "source": [
    "df.loc[4,'Date']='05-02-2020'\n",
    "print(df)"
   ]
  },
  {
   "cell_type": "code",
   "execution_count": 4,
   "metadata": {},
   "outputs": [
    {
     "name": "stdout",
     "output_type": "stream",
     "text": [
      "           Date    cases\n",
      "0    30-01-2020      1.0\n",
      "1    01-02-2020      1.0\n",
      "2    02-02-2020      2.0\n",
      "3    03-02-2020      3.0\n",
      "4    05-02-2020      3.0\n",
      "..          ...      ...\n",
      "375  17-07-2020  11066.0\n",
      "378  18-07-2020  11659.0\n",
      "381  19-07-2020  12480.0\n",
      "384  20-07-2020  13274.0\n",
      "387  21-07-2020  13994.0\n",
      "\n",
      "[141 rows x 2 columns]\n"
     ]
    }
   ],
   "source": [
    "df=df[['Date','cases']]\n",
    "df.dropna(inplace=True)\n",
    "print(df)"
   ]
  },
  {
   "cell_type": "code",
   "execution_count": 5,
   "metadata": {},
   "outputs": [
    {
     "name": "stdout",
     "output_type": "stream",
     "text": [
      "           Date    cases  next_day_cases\n",
      "0    30-01-2020      1.0             NaN\n",
      "1    01-02-2020      1.0             1.0\n",
      "2    02-02-2020      2.0             1.0\n",
      "3    03-02-2020      3.0             2.0\n",
      "4    05-02-2020      3.0             3.0\n",
      "..          ...      ...             ...\n",
      "375  17-07-2020  11066.0         10275.0\n",
      "378  18-07-2020  11659.0         11066.0\n",
      "381  19-07-2020  12480.0         11659.0\n",
      "384  20-07-2020  13274.0         12480.0\n",
      "387  21-07-2020  13994.0         13274.0\n",
      "\n",
      "[141 rows x 3 columns]\n"
     ]
    }
   ],
   "source": [
    "df['next_day_cases']=df['cases'].shift(+1)\n",
    "print(df)"
   ]
  },
  {
   "cell_type": "code",
   "execution_count": 6,
   "metadata": {},
   "outputs": [
    {
     "name": "stdout",
     "output_type": "stream",
     "text": [
      "           Date    cases  next_day_cases  daily_cases\n",
      "0    30-01-2020      1.0             NaN          NaN\n",
      "1    01-02-2020      1.0             1.0          0.0\n",
      "2    02-02-2020      2.0             1.0          1.0\n",
      "3    03-02-2020      3.0             2.0          1.0\n",
      "4    05-02-2020      3.0             3.0          0.0\n",
      "..          ...      ...             ...          ...\n",
      "375  17-07-2020  11066.0         10275.0        791.0\n",
      "378  18-07-2020  11659.0         11066.0        593.0\n",
      "381  19-07-2020  12480.0         11659.0        821.0\n",
      "384  20-07-2020  13274.0         12480.0        794.0\n",
      "387  21-07-2020  13994.0         13274.0        720.0\n",
      "\n",
      "[141 rows x 4 columns]\n"
     ]
    }
   ],
   "source": [
    "df['daily_cases']=df['cases']-df['next_day_cases']\n",
    "print(df)"
   ]
  },
  {
   "cell_type": "code",
   "execution_count": 7,
   "metadata": {},
   "outputs": [
    {
     "name": "stdout",
     "output_type": "stream",
     "text": [
      "           Date    cases  next_day_cases  daily_cases\n",
      "1    01-02-2020      1.0             1.0          0.0\n",
      "2    02-02-2020      2.0             1.0          1.0\n",
      "3    03-02-2020      3.0             2.0          1.0\n",
      "4    05-02-2020      3.0             3.0          0.0\n",
      "5    08-03-2020      8.0             3.0          5.0\n",
      "..          ...      ...             ...          ...\n",
      "375  17-07-2020  11066.0         10275.0        791.0\n",
      "378  18-07-2020  11659.0         11066.0        593.0\n",
      "381  19-07-2020  12480.0         11659.0        821.0\n",
      "384  20-07-2020  13274.0         12480.0        794.0\n",
      "387  21-07-2020  13994.0         13274.0        720.0\n",
      "\n",
      "[140 rows x 4 columns]\n"
     ]
    }
   ],
   "source": [
    "df=df.iloc[1:,:]\n",
    "print(df)"
   ]
  },
  {
   "cell_type": "code",
   "execution_count": 8,
   "metadata": {},
   "outputs": [
    {
     "name": "stdout",
     "output_type": "stream",
     "text": [
      "           Date    cases  daily_cases\n",
      "1    01-02-2020      1.0          0.0\n",
      "2    02-02-2020      2.0          1.0\n",
      "3    03-02-2020      3.0          1.0\n",
      "4    05-02-2020      3.0          0.0\n",
      "5    08-03-2020      8.0          5.0\n",
      "..          ...      ...          ...\n",
      "375  17-07-2020  11066.0        791.0\n",
      "378  18-07-2020  11659.0        593.0\n",
      "381  19-07-2020  12480.0        821.0\n",
      "384  20-07-2020  13274.0        794.0\n",
      "387  21-07-2020  13994.0        720.0\n",
      "\n",
      "[140 rows x 3 columns]\n"
     ]
    }
   ],
   "source": [
    "df=df[['Date','cases','daily_cases']]\n",
    "print(df) "
   ]
  },
  {
   "cell_type": "code",
   "execution_count": 9,
   "metadata": {},
   "outputs": [
    {
     "name": "stdout",
     "output_type": "stream",
     "text": [
      "201 days, 0:00:00\n",
      "140\n"
     ]
    }
   ],
   "source": [
    "df['Date']=pd.to_datetime(df.Date)\n",
    "# print(df)\n",
    "dt_str=dt.date(2020,1,2)\n",
    "dt_stp=dt.date(2020,7,21)\n",
    "no_of_days=dt_stp-dt_str\n",
    "print(no_of_days)\n",
    "print(len(df))"
   ]
  },
  {
   "cell_type": "code",
   "execution_count": 10,
   "metadata": {},
   "outputs": [
    {
     "name": "stdout",
     "output_type": "stream",
     "text": [
      "[1, 2, 3, 4, 5, 6, 7, 8, 9, 10, 11, 12, 13, 14, 15, 16, 17, 18, 19, 20, 21, 22, 23, 24, 25, 26, 27, 28, 29, 30, 31, 32, 33, 34, 35, 36, 37, 38, 39, 40, 41, 42, 43, 44, 45, 46, 47, 48, 49, 50, 51, 52, 53, 54, 55, 56, 57, 58, 59, 60, 61, 62, 63, 64, 65, 66, 67, 68, 69, 70, 71, 72, 73, 74, 75, 76, 77, 78, 79, 80, 81, 82, 83, 84, 85, 86, 87, 88, 89, 90, 91, 92, 93, 94, 95, 96, 97, 98, 99, 100, 101, 102, 103, 104, 105, 106, 107, 108, 109, 110, 111, 112, 113, 114, 115, 116, 117, 118, 119, 120, 121, 122, 123, 124, 125, 126, 127, 128, 129, 130, 131, 132, 133, 134, 135, 136, 137, 138, 139, 140]\n"
     ]
    },
    {
     "data": {
      "text/html": [
       "<div>\n",
       "<style scoped>\n",
       "    .dataframe tbody tr th:only-of-type {\n",
       "        vertical-align: middle;\n",
       "    }\n",
       "\n",
       "    .dataframe tbody tr th {\n",
       "        vertical-align: top;\n",
       "    }\n",
       "\n",
       "    .dataframe thead th {\n",
       "        text-align: right;\n",
       "    }\n",
       "</style>\n",
       "<table border=\"1\" class=\"dataframe\">\n",
       "  <thead>\n",
       "    <tr style=\"text-align: right;\">\n",
       "      <th></th>\n",
       "      <th>Date</th>\n",
       "      <th>cases</th>\n",
       "      <th>daily_cases</th>\n",
       "      <th>Days</th>\n",
       "    </tr>\n",
       "  </thead>\n",
       "  <tbody>\n",
       "    <tr>\n",
       "      <th>1</th>\n",
       "      <td>2020-01-02</td>\n",
       "      <td>1.0</td>\n",
       "      <td>0.0</td>\n",
       "      <td>1</td>\n",
       "    </tr>\n",
       "    <tr>\n",
       "      <th>2</th>\n",
       "      <td>2020-02-02</td>\n",
       "      <td>2.0</td>\n",
       "      <td>1.0</td>\n",
       "      <td>2</td>\n",
       "    </tr>\n",
       "    <tr>\n",
       "      <th>3</th>\n",
       "      <td>2020-03-02</td>\n",
       "      <td>3.0</td>\n",
       "      <td>1.0</td>\n",
       "      <td>3</td>\n",
       "    </tr>\n",
       "    <tr>\n",
       "      <th>4</th>\n",
       "      <td>2020-05-02</td>\n",
       "      <td>3.0</td>\n",
       "      <td>0.0</td>\n",
       "      <td>4</td>\n",
       "    </tr>\n",
       "    <tr>\n",
       "      <th>5</th>\n",
       "      <td>2020-08-03</td>\n",
       "      <td>8.0</td>\n",
       "      <td>5.0</td>\n",
       "      <td>5</td>\n",
       "    </tr>\n",
       "    <tr>\n",
       "      <th>...</th>\n",
       "      <td>...</td>\n",
       "      <td>...</td>\n",
       "      <td>...</td>\n",
       "      <td>...</td>\n",
       "    </tr>\n",
       "    <tr>\n",
       "      <th>375</th>\n",
       "      <td>2020-07-17</td>\n",
       "      <td>11066.0</td>\n",
       "      <td>791.0</td>\n",
       "      <td>136</td>\n",
       "    </tr>\n",
       "    <tr>\n",
       "      <th>378</th>\n",
       "      <td>2020-07-18</td>\n",
       "      <td>11659.0</td>\n",
       "      <td>593.0</td>\n",
       "      <td>137</td>\n",
       "    </tr>\n",
       "    <tr>\n",
       "      <th>381</th>\n",
       "      <td>2020-07-19</td>\n",
       "      <td>12480.0</td>\n",
       "      <td>821.0</td>\n",
       "      <td>138</td>\n",
       "    </tr>\n",
       "    <tr>\n",
       "      <th>384</th>\n",
       "      <td>2020-07-20</td>\n",
       "      <td>13274.0</td>\n",
       "      <td>794.0</td>\n",
       "      <td>139</td>\n",
       "    </tr>\n",
       "    <tr>\n",
       "      <th>387</th>\n",
       "      <td>2020-07-21</td>\n",
       "      <td>13994.0</td>\n",
       "      <td>720.0</td>\n",
       "      <td>140</td>\n",
       "    </tr>\n",
       "  </tbody>\n",
       "</table>\n",
       "<p>140 rows × 4 columns</p>\n",
       "</div>"
      ],
      "text/plain": [
       "          Date    cases  daily_cases  Days\n",
       "1   2020-01-02      1.0          0.0     1\n",
       "2   2020-02-02      2.0          1.0     2\n",
       "3   2020-03-02      3.0          1.0     3\n",
       "4   2020-05-02      3.0          0.0     4\n",
       "5   2020-08-03      8.0          5.0     5\n",
       "..         ...      ...          ...   ...\n",
       "375 2020-07-17  11066.0        791.0   136\n",
       "378 2020-07-18  11659.0        593.0   137\n",
       "381 2020-07-19  12480.0        821.0   138\n",
       "384 2020-07-20  13274.0        794.0   139\n",
       "387 2020-07-21  13994.0        720.0   140\n",
       "\n",
       "[140 rows x 4 columns]"
      ]
     },
     "execution_count": 10,
     "metadata": {},
     "output_type": "execute_result"
    }
   ],
   "source": [
    "days=[]\n",
    "\n",
    "for i in range(1,141):\n",
    "    days.append(i)\n",
    "print(days)\n",
    "df[\"Days\"]=days\n",
    "df"
   ]
  },
  {
   "cell_type": "code",
   "execution_count": 11,
   "metadata": {},
   "outputs": [
    {
     "name": "stdout",
     "output_type": "stream",
     "text": [
      "           Date    cases  daily_cases  Days\n",
      "Days                                       \n",
      "81   2020-05-23    794.0         62.0    81\n",
      "82   2020-05-24    847.0         53.0    82\n",
      "83   2020-05-25    896.0         49.0    83\n",
      "84   2020-05-26    963.0         67.0    84\n",
      "85   2020-05-27   1003.0         40.0    85\n",
      "86   2020-05-28   1088.0         85.0    86\n",
      "87   2020-05-29   1150.0         62.0    87\n",
      "88   2020-05-30   1208.0         58.0    88\n",
      "89   2020-05-31   1269.0         61.0    89\n",
      "90   2020-01-06   1326.0         57.0    90\n",
      "91   2020-02-06   1412.0         86.0    91\n",
      "92   2020-03-06   1494.0         82.0    92\n",
      "93   2020-04-06   1588.0         94.0    93\n",
      "94   2020-05-06   1699.0        111.0    94\n",
      "95   2020-06-06   1807.0        108.0    95\n",
      "96   2020-07-06   1914.0        107.0    96\n",
      "97   2020-08-06   2005.0         91.0    97\n",
      "98   2020-09-06   2096.0         91.0    98\n",
      "99   2020-10-06   2161.0         65.0    99\n",
      "100  2020-11-06   2244.0         83.0   100\n",
      "101  2020-12-06   2322.0         78.0   101\n",
      "102  2020-06-13   2407.0         85.0   102\n",
      "103  2020-06-14   2461.0         54.0   103\n",
      "104  2020-06-15   2543.0         82.0   104\n",
      "105  2020-06-16   2622.0         79.0   105\n",
      "106  2020-06-17   2697.0         75.0   106\n",
      "107  2020-06-18   2794.0         97.0   107\n",
      "108  2020-06-19   2912.0        118.0   108\n",
      "109  2020-06-20   3039.0        127.0   109\n",
      "110  2020-06-21   3172.0        133.0   110\n",
      "111  2020-06-22   3310.0        138.0   111\n",
      "112  2020-06-23   3452.0        142.0   112\n",
      "113  2020-06-24   3603.0        151.0   113\n",
      "114  2020-06-25   3726.0        123.0   114\n",
      "115  2020-06-26   3876.0        150.0   115\n",
      "116  2020-06-27   4071.0        195.0   116\n",
      "117  2020-06-28   4189.0        118.0   117\n",
      "118  2020-06-29   4311.0        122.0   118\n",
      "119  2020-06-30   4442.0        131.0   119\n",
      "120  2020-01-07   4593.0        151.0   120\n",
      "121  2020-02-07   4753.0        160.0   121\n",
      "122  2020-03-07   4976.0        223.0   122\n",
      "123  2020-04-07   5204.0        228.0   123\n",
      "124  2020-05-07   5429.0        225.0   124\n",
      "125  2020-06-07   5622.0        193.0   125\n",
      "126  2020-07-07   5894.0        272.0   126\n",
      "127  2020-08-07   6125.0        231.0   127\n",
      "128  2020-09-07   6534.0        409.0   128\n",
      "129  2020-10-07   6950.0        416.0   129\n",
      "130  2020-11-07   7438.0        488.0   130\n",
      "131  2020-12-07   7873.0        435.0   131\n",
      "132  2020-07-13   8322.0        449.0   132\n",
      "133  2020-07-14   8930.0        608.0   133\n",
      "134  2020-07-15   9553.0        623.0   134\n",
      "135  2020-07-16  10275.0        722.0   135\n",
      "136  2020-07-17  11066.0        791.0   136\n",
      "137  2020-07-18  11659.0        593.0   137\n",
      "138  2020-07-19  12480.0        821.0   138\n",
      "139  2020-07-20  13274.0        794.0   139\n",
      "140  2020-07-21  13994.0        720.0   140\n"
     ]
    }
   ],
   "source": [
    "\n",
    "df=df.set_index(df['Days'])\n",
    "print(df.tail(60))"
   ]
  },
  {
   "cell_type": "code",
   "execution_count": 12,
   "metadata": {},
   "outputs": [
    {
     "data": {
      "image/png": "[encoded data removed]",
      "text/plain": [
       "<Figure size 432x288 with 1 Axes>"
      ]
     },
     "metadata": {
      "needs_background": "light"
     },
     "output_type": "display_data"
    },
    {
     "data": {
      "image/png": "[encoded data removed]",
      "text/plain": [
       "<Figure size 432x288 with 1 Axes>"
      ]
     },
     "metadata": {
      "needs_background": "light"
     },
     "output_type": "display_data"
    }
   ],
   "source": [
    "xs=df.index\n",
    "ys=df['cases']\n",
    "ys2=df['daily_cases']\n",
    "#creating plots to visualize data\n",
    "plt.plot(xs,ys,'r')\n",
    "plt.xlabel('Days')\n",
    "plt.ylabel('Total_Cases')\n",
    "plt.grid()\n",
    "plt.show()\n",
    "plt.plot(xs,ys2,'b.')\n",
    "plt.xlabel('Date')\n",
    "plt.ylabel('Daily_Cases')\n",
    "plt.rcParams['figure.figsize']=(8,6)\n",
    "plt.grid()\n",
    "plt.show()"
   ]
  },
  {
   "cell_type": "code",
   "execution_count": 13,
   "metadata": {},
   "outputs": [
    {
     "data": {
      "image/png": "[encoded data removed]",
      "text/plain": [
       "<Figure size 576x432 with 2 Axes>"
      ]
     },
     "metadata": {
      "needs_background": "light"
     },
     "output_type": "display_data"
    }
   ],
   "source": [
    "ax1=plt.subplot(1,1,1)\n",
    "ax2=ax1.twinx()\n",
    "curve1=ax1.plot(xs,ys,'r',label='Total_Cases')\n",
    "curve2=ax2.plot(xs,ys2,'b',label='Daily_Cases')\n",
    "plt.title('Total cases & daily cases')\n",
    "plt.grid()\n",
    "plt.show()"
   ]
  },
  {
   "cell_type": "code",
   "execution_count": null,
   "metadata": {},
   "outputs": [],
   "source": []
  }
 ],
 "metadata": {
  "kernelspec": {
   "display_name": "Python 3",
   "language": "python",
   "name": "python3"
  },
  "language_info": {
   "codemirror_mode": {
    "name": "ipython",
    "version": 3
   },
   "file_extension": ".py",
   "mimetype": "text/x-python",
   "name": "python",
   "nbconvert_exporter": "python",
   "pygments_lexer": "ipython3",
   "version": "3.8.4"
  }
 },
 "nbformat": 4,
 "nbformat_minor": 4
}
